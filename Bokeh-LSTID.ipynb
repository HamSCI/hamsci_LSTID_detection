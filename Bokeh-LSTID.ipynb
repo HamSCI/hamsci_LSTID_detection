{
 "cells": [
  {
   "cell_type": "code",
   "execution_count": null,
   "id": "3493f6d7-453b-4bca-b4f3-a2ab16433002",
   "metadata": {
    "scrolled": true
   },
   "outputs": [],
   "source": [
    "import datetime\n",
    "import bokeh\n",
    "import lstid_bokeh\n",
    "bokeh.io.output_notebook()\n",
    "%matplotlib inline"
   ]
  },
  {
   "cell_type": "code",
   "execution_count": null,
   "id": "da965e9c-74ed-42f0-bf9a-c6098c53ad92",
   "metadata": {},
   "outputs": [],
   "source": [
    "jll    = lstid_bokeh.JobLibLoader(clear_cache=True)\n",
    "# date   = datetime.datetime(2018,11,9)\n",
    "# result = jll.load_spots(date)\n",
    "# lstid_bokeh.plot_heatmap(**result)"
   ]
  },
  {
   "cell_type": "code",
   "execution_count": null,
   "id": "7791c218-e459-4e18-9548-040535db970a",
   "metadata": {},
   "outputs": [],
   "source": [
    "bka = lstid_bokeh.BkApp(jll=jll)\n",
    "bokeh.io.show(bka.bkapp) # notebook_url=\"http://localhost:8888\" "
   ]
  },
  {
   "cell_type": "code",
   "execution_count": null,
   "id": "26575b1f-4aaa-4874-a5a8-58c8537d8597",
   "metadata": {},
   "outputs": [],
   "source": []
  }
 ],
 "metadata": {
  "kernelspec": {
   "display_name": "Python 3 (ipykernel)",
   "language": "python",
   "name": "python3"
  },
  "language_info": {
   "codemirror_mode": {
    "name": "ipython",
    "version": 3
   },
   "file_extension": ".py",
   "mimetype": "text/x-python",
   "name": "python",
   "nbconvert_exporter": "python",
   "pygments_lexer": "ipython3",
   "version": "3.11.8"
  }
 },
 "nbformat": 4,
 "nbformat_minor": 5
}
